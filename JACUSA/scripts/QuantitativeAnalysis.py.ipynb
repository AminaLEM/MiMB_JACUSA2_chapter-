{
 "cells": [
  {
   "cell_type": "markdown",
   "id": "bf51a66b",
   "metadata": {},
   "source": [
    "# Quantitaive Analysis of Genetic Model"
   ]
  },
  {
   "cell_type": "code",
   "execution_count": 1,
   "id": "b716f656",
   "metadata": {},
   "outputs": [],
   "source": [
    "import pandas as pd\n",
    "import matplotlib.pyplot as plt\n",
    "import numpy as np\n",
    "import os"
   ]
  },
  {
   "cell_type": "code",
   "execution_count": null,
   "id": "e7e5c260",
   "metadata": {},
   "outputs": [],
   "source": [
    "downsampling_thres = snakemake.params[0]     # List of downsampling Read  Coverage \n",
    "target = snakemake.params[1]    # Target site\n",
    "seeds = snakemake.params[2]       # List of samtools seeds for downsampling and mixing\n",
    "ref = snakemake.params[3]           # Sequence ID\n",
    "mixing_thres = snakemake.params[4]                 # List of modification rates\n",
    "mixing_downsampling_seed = snakemake.params[5]    # Downsampling seed for the mixing samples\n",
    "mixing_downsampling_thre = snakemake.params[6]   # Downsampling covcerage for the mixing samples\n",
    "output =  snakemake.output[0]   # output folder\n",
    "if not os.path.exists(output):\n",
    "    os.makedirs(output, exist_ok=True)\n",
    "output = output + \"/\"\n",
    "label = snakemake.params[7]     # Analysis label\n",
    "method = snakemake.params[8]      # Outlier detection method\n",
    "contamination = str(snakemake.params[9])  # LOF contamination value\n",
    "path_inp = snakemake.params[10]     #Path to inputs\n",
    "features = snakemake.params.features\n",
    "baseline= 'median'\n",
    "mix_seeds = snakemake.params.mix_seed       # List of samtools seeds for downsampling and mixing\n"
   ]
  },
  {
   "cell_type": "markdown",
   "id": "f37196cf",
   "metadata": {},
   "source": [
    "## Downasampling analysis"
   ]
  },
  {
   "cell_type": "markdown",
   "id": "b6aceff8",
   "metadata": {},
   "source": [
    "Generate barplots showing the diffrence between th target position and the median across different seeds of downsampling in terms of LOF scores."
   ]
  },
  {
   "cell_type": "code",
   "execution_count": 32,
   "id": "0fe3c2f2",
   "metadata": {},
   "outputs": [],
   "source": [
    "def plot (ar, x_values, y_values, xerr_values=None,xlabel='', ylabel='',title ='', color ='#3288bd', path = '', legend = False):\n",
    "    \"\"\"\n",
    "    plot function plot horizontal barplots from a dataframe columns\n",
    "    \"\"\" \n",
    "    fig, axi= plt.subplots(figsize=(3,3), dpi = 300)\n",
    "    ax = ar.plot(kind = \"barh\",x=x_values, y = y_values, legend = False, title = title, xerr = xerr_values , xlabel = xlabel,ax = axi)#     barp(arr) \n",
    "    ax.set_xlabel(ylabel)\n",
    "    for s in ['top', 'right']:\n",
    "        ax.spines[s].set_visible(False)\n",
    "    if legend == True:\n",
    "        plt.legend()\n",
    "#     plt.show()\n",
    "    plt.savefig(path+title + '.pdf' ,  bbox_inches = \"tight\") \n",
    "    plt.savefig(path+title+ '.eps'  ,  bbox_inches = \"tight\")              "
   ]
  },
  {
   "cell_type": "code",
   "execution_count": 33,
   "id": "0305ce0f",
   "metadata": {},
   "outputs": [],
   "source": [
    "# label = 'blaR_metvsblaR'\n",
    "# path_inp ='../../output/snakemake'+'/analysis/bivariate_'+label # path to input as in the config file\n",
    "# output = '' # path to outputs\n",
    "# downsampling_thres = ['300','500','1000','5000','10000'] # downsamplings coverage as set in config file\n",
    "# # samples = { 'blaRvsblaR_met44':44,'blaRvsblaR_met110':110, 'blaRvsblaR_met173':173,'blaRvsblaR_met288':288,'blaRvsblaR_met449':449,'blaRvsblaR_met548':548} # list of analysis labels as set in the config file\n",
    "# target = [45,245] # list of analysis labels as set in the config file\n",
    "# seeds =['0','1','2','3','5','6','7','8','10','11','54321','42','11112021','20211025','123456789'] # list of seeds labels as set in the config file\n",
    "# baseline = 'median' # median or the top value from the first downsampling\n",
    "# mixing_thres = [0.1,0.25,0.5,0.75, 0.9] # list of mixing fraction of WT sample as set in the config file\n",
    "# method = 'LOF'\n",
    "# contamination ='0.01'\n",
    "# ref = 'T7-blaR'\n",
    "# mixing_downsampling_seed = '42'\n",
    "# mixing_downsampling_thre ='1000'"
   ]
  },
  {
   "cell_type": "code",
   "execution_count": null,
   "id": "c7e5b838",
   "metadata": {
    "scrolled": false
   },
   "outputs": [],
   "source": [
    "for feat in features:\n",
    "    for sl in target: \n",
    "        ar =[]\n",
    "        df =[]\n",
    "        state = True\n",
    "        for thre in downsampling_thres: \n",
    "                tab = []\n",
    "                for ij in seeds:\n",
    "                    inp1 = path_inp+ '.sampled'+thre+'/DowS'+ij+'/with_Cond1/'+method+contamination+'/'+ feat+'_lof_scores.csv'\n",
    "                    t = pd.read_csv(inp1, sep = ',',header = 0)\n",
    "                    maxi = t.sort_values('scores').reset_index(drop= True).loc[0,'scores']\n",
    "                    if baseline == 'median':\n",
    "                        median = t['scores'].median()\n",
    "                        val = t.loc[(t.pos - sl)==0,'scores'].values[0]\n",
    "                        tab.append((median - val)/abs(maxi))\n",
    "                    else:\n",
    "                        if state == True: \n",
    "                            arr = t.sort_values('scores').reset_index(drop= True)\n",
    "                            ref = arr[abs(arr.pos - sl) > 4].reset_index(drop = True).loc[0,'scores']\n",
    "                            pos = arr[abs(arr.pos - sl) > 4].reset_index(drop = True).loc[0,'pos']\n",
    "                            state = False\n",
    "                        val = t.loc[(t.pos - sl)==0,'scores'].values[0]\n",
    "                        tab.append((ref - val)/abs(maxi))\n",
    "                df.append([int(thre),np.mean(tab),np.std(tab)] )  \n",
    "        ar= pd.DataFrame(df, columns=['cov', 'scores', 'std'])\n",
    "        title = \"LOF_\"+feat+\"_Site:\"+str(sl)\n",
    "        plot(ar = ar, x_values= 'cov',y_values =\"scores\", xerr_values = 'std',xlabel = 'Read Coverage',  ylabel ='Distance', title = title, path = output)\n"
   ]
  },
  {
   "cell_type": "markdown",
   "id": "99ea2d1d",
   "metadata": {},
   "source": [
    "Generate barplots showing the diffrence between th target position and the median in terms of combined features from JACUSA2 estimated scores."
   ]
  },
  {
   "cell_type": "code",
   "execution_count": null,
   "id": "6e55f98c",
   "metadata": {
    "scrolled": false
   },
   "outputs": [],
   "source": [
    "for feat in features:\n",
    "    for sl in target: \n",
    "        ar =[]\n",
    "        df =[]\n",
    "        for thre in downsampling_thres: \n",
    "                tab = []\n",
    "                for ij in seeds:\n",
    "                    inp1 = path_inp+ '.sampled'+thre+'/DowS'+ij+'/with_Cond1/'+method+contamination+'/prediction.out'         \n",
    "                    t = pd.read_csv(inp1, sep = ',',header = 0)\n",
    "                    t =t.loc[t.label == 'Cond1_Cond2', :]\n",
    "#                     t =t.loc[t.label == label, :]\n",
    "                    median = t[feat].median()\n",
    "                    val = t.loc[(t.Ref_Pos == ref+ \"_\"+str(sl)),feat].values[0]\n",
    "                    maxi = t.sort_values(feat,ascending = False ).reset_index(drop= True).loc[0,feat]\n",
    "                    mini = t.sort_values(feat,ascending = True ).reset_index(drop= True).loc[0,feat]\n",
    "                    tab.append((val - median)/(maxi-mini))\n",
    "                \n",
    "                df.append([int(thre),np.mean(tab),np.std(tab)] )  \n",
    "        ar= pd.DataFrame(df, columns=['cov', feat, 'std'])\n",
    "        title = \"JACUSA_\"+feat+\"_Site:\"+str(sl)\n",
    "        plot(ar = ar, x_values= 'cov',y_values = feat, xerr_values = 'std', xlabel = 'Read Coverage', ylabel = 'Distance', title = title, path= output)\n"
   ]
  },
  {
   "cell_type": "markdown",
   "id": "de79624e",
   "metadata": {},
   "source": [
    "Generate barplots showing the fraction of detection of target position and its neighbors as outleirs across different seeds of downsamplings for different amount of reads."
   ]
  },
  {
   "cell_type": "code",
   "execution_count": null,
   "id": "78c168b3",
   "metadata": {
    "scrolled": false
   },
   "outputs": [],
   "source": [
    "for feat in features:\n",
    "    for sl in target: \n",
    "        ar =[]\n",
    "        df =[]\n",
    "        for thre in downsampling_thres: \n",
    "                tab = pd.DataFrame([])\n",
    "                for ij in seeds:\n",
    "                    inp1 = path_inp+ '.sampled'+thre+'/DowS'+ij+'/with_Cond1/'+method+contamination+'/'+ feat+'_lof_scores.csv'\n",
    "                    t = pd.read_csv(inp1, sep = ',',header = 0)\n",
    "                    t =t.loc[t.outlier == True, :]\n",
    "                    zz = t.loc[(t.pos - sl)== 0,:]\n",
    "                    qq = t.loc[abs(t.pos - sl) < 3,:]\n",
    "                    tab =tab.append([[qq.shape[0]/t.shape[0],zz.shape[0],qq.shape[0]!=0]])\n",
    "                df.append([thre,np.mean(tab[0]),np.mean(tab[1]),np.mean(tab[2])] )  \n",
    "        ar= pd.DataFrame(df, columns=['thre','5mer outliers fraction', 'site '+str(sl), '5mer'])\n",
    "        title = \"Downsapling Detection Frequency_\"+feat+\"_Site:\"+str(sl)\n",
    "        plot(ar, x_values='thre',y_values =['5mer', 'site '+str(sl)], xlabel = 'Read Coverage', ylabel = \"Fraction detected as outliers\", title = title, path = output, legend = True)\n",
    "\n"
   ]
  },
  {
   "cell_type": "markdown",
   "id": "7b8ac244",
   "metadata": {},
   "source": [
    "## Analysis of Mixtures WT/KO"
   ]
  },
  {
   "cell_type": "markdown",
   "id": "e354be6a",
   "metadata": {},
   "source": [
    "Generate barplots showing the fraction of detection of target position and its neighbors as outleirs across different seeds of mixing for different mixing rates."
   ]
  },
  {
   "cell_type": "code",
   "execution_count": null,
   "id": "b7d376d7",
   "metadata": {
    "scrolled": false
   },
   "outputs": [],
   "source": [
    "mix_seeds = mix_seeds[mix_seeds!=mixing_downsampling_seed]\n",
    "for feat in features:\n",
    "    for sl in target: \n",
    "        ar =[]\n",
    "        df =[]\n",
    "        for thre in mixing_thres: \n",
    "                tab = pd.DataFrame([])\n",
    "                for ij in seeds:\n",
    "                    inp1 = path_inp+'.sampled'+mixing_downsampling_thre+'/DowS'+mixing_downsampling_seed+'/with_MixS'+ij+'/'+str(thre)+'_Cond1/'+method+contamination+'/'+feat+'_lof_scores.csv'         \n",
    "                    t = pd.read_csv(inp1, sep = ',',header = 0)\n",
    "                    t =t.loc[t.outlier == True, :]\n",
    "                    zz = t.loc[(t.pos - sl)== 0,:]\n",
    "                    qq = t.loc[abs(t.pos - sl) < 3,:]\n",
    "                    tab =tab.append([[qq.shape[0]/t.shape[0],zz.shape[0],qq.shape[0]!=0]])\n",
    "                df.append([thre,np.mean(tab[0]),np.mean(tab[1]),np.mean(tab[2])] )  \n",
    "        ar= pd.DataFrame(df, columns=['thre','5mer outliers fraction', 'site '+str(sl), '5mer'])\n",
    "        title = \"Mixing Detection Frequency_\"+feat+\"_Site:\"+str(sl)\n",
    "        plot(ar, x_values='thre',y_values =['5mer', 'site '+str(sl)], xlabel = 'Modification Rate', ylabel = \"Fraction detected as outliers\", title = title, path = output, legend = True)\n",
    "\n"
   ]
  },
  {
   "cell_type": "code",
   "execution_count": null,
   "id": "0e1d96a5",
   "metadata": {},
   "outputs": [],
   "source": []
  }
 ],
 "metadata": {
  "kernelspec": {
   "display_name": "DirectRNA",
   "language": "python",
   "name": "directrna"
  },
  "language_info": {
   "codemirror_mode": {
    "name": "ipython",
    "version": 3
   },
   "file_extension": ".py",
   "mimetype": "text/x-python",
   "name": "python",
   "nbconvert_exporter": "python",
   "pygments_lexer": "ipython3",
   "version": "3.6.13"
  }
 },
 "nbformat": 4,
 "nbformat_minor": 5
}
